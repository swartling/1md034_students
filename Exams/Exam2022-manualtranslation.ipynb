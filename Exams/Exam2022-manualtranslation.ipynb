{
  "cells": [
    {
      "cell_type": "code",
      "source": [
        "from scipy.special import binom as binomial\n",
        "# Hint the PMF of N is p_N(k) where p_N is\n",
        "p = (0.55)\n",
        "print(\"p: \", p)\n",
        "print(\"1-p: \", 1-p)\n",
        "pz = (1/2)\n",
        "#print(\"pz: \", pz)\n",
        "p_N = lambda k: binomial(20,k)*(1-p)**(20-k)*(p)**k\n",
        "def p_Z(N, k):\n",
        "    print(\"k: \", k)\n",
        "    #N = remaining questions\n",
        "    #k = correct guesses\n",
        "    answer = binomial(N,k)*((1-pz)**(N-k))*((pz)**k)\n",
        "    return answer\n"
      ],
      "metadata": {
        "id": "I9ig_-VrFgk_"
      },
      "execution_count": null,
      "outputs": []
    },
    {
      "cell_type": "code",
      "execution_count": null,
      "metadata": {
        "id": "5rrjiOTkFeDc"
      },
      "outputs": [],
      "source": [
        "#Ex 1.9\n",
        "#part 1\n",
        "\n",
        "def problem2_LCG(size=None, seed=0, a=1664525, b=1013904223, M=2**32):\n",
        "    \"\"\"\n",
        "    Linear Congruential Generator (LCG).\n",
        "\n",
        "    Parameters:\n",
        "        size (int): Number of random numbers to generate.\n",
        "        seed (int): Initial seed value.\n",
        "        a (int): Multiplier (chosen to satisfy Hull-Dobell theorem).\n",
        "        b (int): Increment (chosen to satisfy Hull-Dobell theorem).\n",
        "        M (int): Modulus (a large number for the period).\n",
        "\n",
        "    Returns:\n",
        "        list: Sequence of pseudo-random numbers in [0, 1).\n",
        "    \"\"\"\n",
        "    if size is None:  # Default to generating one random number if size not provided\n",
        "        size = 1\n",
        "    X = seed  # Initialize the first value with the seed\n",
        "    results = []  # List to store generated random numbers\n",
        "    for _ in range(size):  # Generate 'size' random numbers\n",
        "        X = (a * X + b) % M  # Update using the LCG formula\n",
        "        results.append(X / M)  # Normalize to [0, 1) by dividing by M\n",
        "    return results\n"
      ]
    },
    {
      "cell_type": "code",
      "execution_count": null,
      "metadata": {
        "id": "bYMJvOFgFeDm"
      },
      "outputs": [],
      "source": [
        "#Part 2\n",
        "def problem2_uniform(generator=None, size=None, seed=0):\n",
        "    \"\"\"\n",
        "    Uniform random number generator in [0, 1] using an LCG.\n",
        "\n",
        "    Parameters:\n",
        "        generator (function): Random number generator (e.g., LCG).\n",
        "        size (int): Number of random numbers to generate.\n",
        "        seed (int): Seed for the random number generator.\n",
        "\n",
        "    Returns:\n",
        "        list: Uniformly distributed random numbers in [0, 1].\n",
        "    \"\"\"\n",
        "    if generator is None:  # Default to using the LCG if no generator provided\n",
        "        generator = problem2_LCG\n",
        "    # Use the generator to create uniform random numbers\n",
        "    return generator(size=size, seed=seed)\n"
      ]
    },
    {
      "cell_type": "code",
      "execution_count": null,
      "metadata": {
        "id": "a9klicJTFeDo"
      },
      "outputs": [],
      "source": [
        "#Part 3\n",
        "\n",
        "import math  # Import math for trigonometric functions like sin()\n",
        "\n",
        "def problem2_accept_reject(uniformGenerator=None, size=None, seed=0):\n",
        "    \"\"\"\n",
        "    Accept-Reject sampling to generate random samples from p_0(x).\n",
        "\n",
        "    Parameters:\n",
        "        uniformGenerator (function): Uniform random number generator.\n",
        "        size (int): Number of random samples to generate.\n",
        "        seed (int): Seed for the generator.\n",
        "\n",
        "    Returns:\n",
        "        list: Samples from the target distribution p_0(x).\n",
        "    \"\"\"\n",
        "    if size is None:  # Default to generating one sample if size not provided\n",
        "        size = 1\n",
        "    if uniformGenerator is None:  # Default to using the uniform generator\n",
        "        uniformGenerator = problem2_uniform\n",
        "\n",
        "    # Generate more random numbers than needed (to ensure enough samples)\n",
        "    random_numbers = uniformGenerator(size=2*size, seed=seed)\n",
        "    samples = []  # List to store accepted samples\n",
        "\n",
        "    for i in range(0, len(random_numbers), 2):  # Use pairs of random numbers\n",
        "        if len(samples) >= size:  # Stop if we have enough samples\n",
        "            break\n",
        "        x = random_numbers[i]  # Candidate sample from [0, 1]\n",
        "        u = random_numbers[i + 1]  # Uniform random number for acceptance check\n",
        "        p_x = (math.pi / 2) * abs(math.sin(2 * math.pi * x))  # Evaluate p_0(x)\n",
        "        if u <= p_x / (math.pi / 2):  # Accept if u is less than scaled p_0(x)\n",
        "            samples.append(x)  # Add the accepted sample to the list\n",
        "    return samples"
      ]
    },
    {
      "cell_type": "code",
      "execution_count": null,
      "metadata": {
        "id": "UxHcv2lLFeDp",
        "outputId": "0dfa6c92-a199-4faa-a493-d69705937b03"
      },
      "outputs": [
        {
          "name": "stdout",
          "output_type": "stream",
          "text": [
            "LCG output: [0.23645552527159452, 0.3692706737201661, 0.5042420323006809, 0.7048832636792213, 0.05054362863302231, 0.3695183543022722, 0.7747629624791443, 0.556188570568338, 0.0164932357147336, 0.6392460397910327]\n",
            "Uniform sampler: [0.23645552527159452, 0.3692706737201661, 0.5042420323006809, 0.7048832636792213, 0.05054362863302231, 0.3695183543022722, 0.7747629624791443, 0.556188570568338, 0.0164932357147336, 0.6392460397910327]\n",
            "Accept-Reject sampler: [0.23645552527159452, 0.7747629624791443, 0.2504511415027082, 0.23507591942325234, 0.8608870944008231, 0.6826027217321098, 0.21594200655817986, 0.07054510014131665, 0.12981509510427713, 0.5828870958648622, 0.2629479970782995, 0.9307009153999388, 0.388584918808192]\n"
          ]
        }
      ],
      "source": [
        "# Test for the implemented LCG, uniform sampler, and accept-reject sampler.\n",
        "\n",
        "# 1. Linear Congruential Generator (LCG) Test\n",
        "# Generate 10 random numbers using the LCG with seed = 1.\n",
        "print(\"LCG output: %s\" % problem2_LCG(size=10, seed=1))\n",
        "\n",
        "# 2. Set the period for the LCG\n",
        "# The period must match the modulus (M) used in the LCG, which is 2^32 for this implementation.\n",
        "period = 2**32  # Matching M = 2^32\n",
        "\n",
        "# 3. Uniform Sampler Test\n",
        "# Generate 10 uniform random numbers using the LCG-based uniform generator.\n",
        "print(\"Uniform sampler: %s\" % problem2_uniform(generator=problem2_LCG, size=10, seed=1))\n",
        "\n",
        "# 4. Define the uniform sampler function with the correct period\n",
        "# This is used as an input to the accept-reject sampler.\n",
        "uniform_sampler = lambda size, seed: problem2_uniform(generator=problem2_LCG, size=size, seed=seed)\n",
        "\n",
        "# 5. Accept-Reject Sampler Test\n",
        "# Generate 20 samples from the target distribution using the accept-reject sampler.\n",
        "print(\"Accept-Reject sampler: %s\" % problem2_accept_reject(uniformGenerator=uniform_sampler, size=20, seed=1))\n"
      ]
    },
    {
      "cell_type": "code",
      "execution_count": null,
      "metadata": {
        "id": "NMAO78NQFeDs"
      },
      "outputs": [],
      "source": [
        "from random import random, seed as set_random_seed\n",
        "\n",
        "# If you did not manage to implement either part 1 or part 2 but still want to check part 3,\n",
        "# you can run the code below.\n",
        "def testUniformGenerator(size, seed):\n",
        "    set_random_seed(seed)  # Set the random seed\n",
        "    return [random() for s in range(size)]  # Generate 'size' random numbers\n",
        "\n",
        "print(\"Accept-Reject sampler %s\" % problem2_accept_reject(uniformGenerator=testUniformGenerator,\n",
        "                                                          size=20, seed=1))  # Test part 3\n"
      ]
    },
    {
      "cell_type": "code",
      "execution_count": null,
      "metadata": {
        "id": "1AHglZklFeDt"
      },
      "outputs": [],
      "source": [
        "#1.11 Concentration of measure\n"
      ]
    },
    {
      "cell_type": "markdown",
      "metadata": {
        "id": "MVDJ0OrNFeDu"
      },
      "source": [
        "# 1.11 Concentration of Measure\n",
        "\n",
        "As you recall, concentration of measure is the phenomenon where the probability of a large deviation of some quantity becomes smaller as we observe more samples. This is formalized as:\n",
        "\n",
        "\\[\n",
        "P(Z - \\mathbb{E}[Z] \\geq \\epsilon) \\leq C_1 e^{-C_2 n \\epsilon^2} \\land C_3 e^{-C_4 n (\\epsilon+1)}.\n",
        "\\]\n",
        "\n",
        "### Question 1: Exponential Concentration\n",
        "\n",
        "Evaluate which of the following quantities exhibit **exponential concentration**:\n",
        "\n",
        "1. **Empirical mean of i.i.d. sub-Gaussian random variables**:\n",
        "   - Sub-Gaussian random variables exhibit strong concentration properties.\n",
        "   - Their empirical mean satisfies Hoeffding's inequality or similar bounds.\n",
        "   - **Answer**: Exponentially concentrates.\n",
        "\n",
        "2. **Empirical mean of i.i.d. sub-Exponential random variables**:\n",
        "   - Sub-Exponential random variables exhibit weaker concentration than sub-Gaussian random variables.\n",
        "   - Their empirical mean satisfies Bernstein-type inequalities, but not exponential concentration in the strict sense.\n",
        "   - **Answer**: Does not exponentially concentrate.\n",
        "\n",
        "3. **Empirical mean of i.i.d. random variables with finite variance**:\n",
        "   - With finite variance, the concentration is weaker and typically follows Chebyshev's inequality.\n",
        "   - This results in polynomial, not exponential, decay.\n",
        "   - **Answer**: Does not exponentially concentrate.\n",
        "\n",
        "4. **Empirical variance of i.i.d. random variables with finite variance**:\n",
        "   - Empirical variance also exhibits polynomial concentration under finite variance assumptions.\n",
        "   - **Answer**: Does not exponentially concentrate.\n",
        "\n",
        "5. **Empirical variance of i.i.d. sub-Gaussian random variables**:\n",
        "   - Sub-Gaussian random variables allow for tighter bounds on empirical variance due to their tail behavior.\n",
        "   - The concentration, however, is weaker than exponential in most cases for empirical variance.\n",
        "   - **Answer**: Does not exponentially concentrate.\n",
        "\n",
        "6. **Empirical variance of i.i.d. sub-Exponential random variables**:\n",
        "   - Sub-Exponential variables exhibit weaker concentration properties, especially for higher moments like variance.\n",
        "   - **Answer**: Does not exponentially concentrate.\n",
        "\n",
        "7. **Empirical third moment of i.i.d. sub-Gaussian random variables**:\n",
        "   - Higher-order moments generally concentrate more weakly, even for sub-Gaussian variables.\n",
        "   - **Answer**: Does not exponentially concentrate.\n",
        "\n",
        "8. **Empirical fourth moment of i.i.d. sub-Gaussian random variables**:\n",
        "   - Similar to the third moment, concentration is weaker than exponential.\n",
        "   - **Answer**: Does not exponentially concentrate.\n",
        "\n",
        "9. **Empirical mean of i.i.d. deterministic random variables**:\n",
        "   - Deterministic random variables have no variance, so their empirical mean does not deviate.\n",
        "   - **Answer**: Does not exponentially concentrate (trivially true).\n",
        "\n",
        "10. **Empirical tenth moment of i.i.d. Bernoulli random variables**:\n",
        "    - Moments of Bernoulli random variables concentrate weakly due to their bounded nature.\n",
        "    - **Answer**: Does not exponentially concentrate.\n",
        "\n",
        "---\n",
        "\n",
        "### Question 2: Weaker Concentration\n",
        "\n",
        "Weaker concentration refers to bounds of the form:\n",
        "\\[\n",
        "P(Z - \\mathbb{E}[Z] \\geq \\epsilon) \\leq \\frac{C_1}{n\\epsilon}.\n",
        "\\]\n",
        "\n",
        "Evaluate which of the quantities concentrate in the weaker sense:\n",
        "\n",
        "1. **Empirical mean of i.i.d. sub-Gaussian random variables**:\n",
        "   - Sub-Gaussian random variables also satisfy weaker concentration bounds.\n",
        "   - **Answer**: Concentrates in the weaker sense.\n",
        "\n",
        "2. **Empirical mean of i.i.d. sub-Exponential random variables**:\n",
        "   - Sub-Exponential variables satisfy weaker bounds.\n",
        "   - **Answer**: Concentrates in the weaker sense.\n",
        "\n",
        "3. **Empirical mean of i.i.d. random variables with finite variance**:\n",
        "   - Finite variance variables concentrate weakly by Chebyshev's inequality.\n",
        "   - **Answer**: Concentrates in the weaker sense.\n",
        "\n",
        "4. **Empirical variance of i.i.d. random variables with finite variance**:\n",
        "   - Variance estimation satisfies weaker concentration.\n",
        "   - **Answer**: Concentrates in the weaker sense.\n",
        "\n",
        "5. **Empirical variance of i.i.d. sub-Gaussian random variables**:\n",
        "   - Sub-Gaussian variance exhibits weaker concentration.\n",
        "   - **Answer**: Concentrates in the weaker sense.\n",
        "\n",
        "6. **Empirical variance of i.i.d. sub-Exponential random variables**:\n",
        "   - Sub-Exponential variance satisfies weaker bounds.\n",
        "   - **Answer**: Concentrates in the weaker sense.\n",
        "\n",
        "7. **Empirical third moment of i.i.d. sub-Gaussian random variables**:\n",
        "   - Higher-order moments have weak concentration.\n",
        "   - **Answer**: Concentrates in the weaker sense.\n",
        "\n",
        "8. **Empirical fourth moment of i.i.d. sub-Gaussian random variables**:\n",
        "   - Higher-order moments have weak concentration.\n",
        "   - **Answer**: Concentrates in the weaker sense.\n",
        "\n",
        "9. **Empirical mean of i.i.d. deterministic random variables**:\n",
        "   - Deterministic variables trivially concentrate but do not satisfy this bound.\n",
        "   - **Answer**: Does not concentrate in the weaker sense.\n",
        "\n",
        "10. **Empirical tenth moment of i.i.d. Bernoulli random variables**:\n",
        "    - Bernoulli moments satisfy weaker bounds.\n",
        "    - **Answer**: Concentrates in the weaker sense.\n",
        "\n",
        "---\n",
        "\n",
        "### Final Summary Table\n",
        "\n",
        "| Case                                                      | Exponentially Concentrates | Weakly Concentrates |\n",
        "|-----------------------------------------------------------|----------------------------|----------------------|\n",
        "| Empirical mean of i.i.d. sub-Gaussian random variables    | Yes                        | Yes                  |\n",
        "| Empirical mean of i.i.d. sub-Exponential random variables | No                         | Yes                  |\n",
        "| Empirical mean of i.i.d. random variables with finite variance | No                     | Yes                  |\n",
        "| Empirical variance of i.i.d. random variables with finite variance | No                  | Yes                  |\n",
        "| Empirical variance of i.i.d. sub-Gaussian random variables | No                        | Yes                  |\n",
        "| Empirical variance of i.i.d. sub-Exponential random variables | No                      | Yes                  |\n",
        "| Empirical third moment of i.i.d. sub-Gaussian random variables | No                     | Yes                  |\n",
        "| Empirical fourth moment of i.i.d. sub-Gaussian random variables | No                     | Yes                  |\n",
        "| Empirical mean of i.i.d. deterministic random variables   | No                         | No                   |\n",
        "| Empirical tenth moment of i.i.d. Bernoulli random variables | No                      | Yes                  |\n"
      ]
    },
    {
      "cell_type": "markdown",
      "metadata": {
        "id": "P0wBmD8kFeDy"
      },
      "source": [
        "# 1.13 SMS Spam Filtering\n",
        "\n",
        "This exercise involves analyzing SMS spam messages to estimate probabilities and confidence intervals. Below are detailed steps for each part of the problem.\n",
        "\n",
        "---\n",
        "\n",
        "## **Part 1: Estimate \\( \\mathbb{P}(Y = 1 \\mid \\text{\"free\" or \"prize\"} \\in X) \\)**\n",
        "\n",
        "### Goal:\n",
        "We want to calculate the probability that an SMS is spam (\\( Y = 1 \\)) given that it contains the words \"free\" or \"prize\". Formally:\n",
        "\\[\n",
        "\\mathbb{P}(Y = 1 \\mid \\text{\"free\" or \"prize\"} \\in X) = \\frac{\\text{Count of spam messages containing 'free' or 'prize'}}{\\text{Total messages containing 'free' or 'prize'}}\n",
        "\\]\n",
        "\n",
        "### Steps:\n",
        "1. **Preprocessing**:\n",
        "   - Convert all SMS texts to lowercase to ensure case-insensitive matching (e.g., \"Free\" and \"free\" are treated the same).\n",
        "   - Identify SMS messages that contain either \"free\" or \"prize\".\n",
        "   \n",
        "2. **Count Messages**:\n",
        "   - Count the total number of SMS messages containing \"free\" or \"prize\".\n",
        "   - Count how many of these are spam (\\( Y = 1 \\)).\n",
        "\n",
        "3. **Calculate Conditional Probability**:\n",
        "   - Compute the fraction of spam messages among those containing \"free\" or \"prize\".\n",
        "\n"
      ]
    },
    {
      "cell_type": "code",
      "execution_count": null,
      "metadata": {
        "id": "33TzmB96FeDz"
      },
      "outputs": [],
      "source": [
        "# Run this cell to get the SMS text data\n",
        "from exam_extras import load_sms\n",
        "spam_no_spam = load_sms()\n",
        "\n",
        "# Filter SMS messages for \"free\" or \"prize\"\n",
        "contains_free_or_prize = [\n",
        "    (text, label) for text, label in spam_no_spam if \"free\" in text.lower() or \"prize\" in text.lower()\n",
        "]\n",
        "\n",
        "# Count total and spam messages in the filtered set\n",
        "total_containing_free_or_prize = len(contains_free_or_prize)\n",
        "spam_containing_free_or_prize = sum(1 for _, label in contains_free_or_prize if label == 1)\n",
        "\n",
        "# Calculate the estimate\n",
        "problem4_hatP = spam_containing_free_or_prize / total_containing_free_or_prize\n",
        "print(f\"Estimated P(Y=1 | 'free' or 'prize' in X): {problem4_hatP}\")\n"
      ]
    },
    {
      "cell_type": "markdown",
      "metadata": {
        "id": "jW6sy4-PFeD0"
      },
      "source": [
        "## **Part 2: Confidence Interval Using Hoeffding’s Inequality**\n",
        "\n",
        "### Goal:\n",
        "The goal is to compute a \"90%\" confidence interval around the estimated probability \\( \\hat{P} \\). Using Hoeffding’s inequality, the confidence interval can be expressed as:\n",
        "\\[\n",
        "\\mathbb{P}(|\\hat{P} - \\mathbb{E}[\\hat{P}]| \\leq l) \\geq 0.9\n",
        "\\]\n",
        "Where:\n",
        "\\[\n",
        "l = \\sqrt{\\frac{\\ln(2 / (1 - 0.9))}{2n}}\n",
        "\\]\n",
        "\n",
        "Here:\n",
        "- \\( n \\): The number of SMS messages containing \"free\" or \"prize\".\n",
        "- \\( \\delta = 0.1 \\): The complement of the confidence level \\( (1 - 0.9) \\).\n",
        "\n",
        "### Steps:\n",
        "1. **Identify \\( n \\)**:\n",
        "   - \\( n \\) is the total number of SMS messages in the filtered set containing \"free\" or \"prize\".\n",
        "\n",
        "2. **Set \\( \\delta = 0.1 \\)**:\n",
        "   - This represents a 90% confidence interval.\n",
        "\n",
        "3. **Compute \\( l \\)**:\n",
        "   - Use the formula for \\( l \\):\n",
        "     \\[\n",
        "     l = \\sqrt{\\frac{\\ln(2 / \\delta)}{2n}}\n",
        "     \\]\n",
        "\n",
        "4. **Interpret the Result**:\n",
        "   - The interval around \\( \\hat{P} \\) is given by \\( [\\hat{P} - l, \\hat{P} + l] \\).\n",
        "   - This interval captures the true probability with at least 90% confidence.\n",
        "\n"
      ]
    },
    {
      "cell_type": "code",
      "execution_count": null,
      "metadata": {
        "id": "j-1KwAeqFeD2"
      },
      "outputs": [],
      "source": [
        "# fill in the calculated l from part 2 here\n",
        "import math\n",
        "\n",
        "# Total samples in the filtered set\n",
        "n = total_containing_free_or_prize\n",
        "\n",
        "# Confidence level\n",
        "delta = 0.1  # 1 - 0.9\n",
        "\n",
        "# Calculate l\n",
        "problem4_l = math.sqrt(math.log(2 / delta) / (2 * n))\n",
        "print(f\"Hoeffding's confidence interval l: {problem4_l}\")\n"
      ]
    },
    {
      "cell_type": "markdown",
      "metadata": {
        "id": "ZWlkXHx3FeD3"
      },
      "source": [
        "\n",
        "---\n",
        "\n",
        "### **Part 3: Repeat for \"free\" Appearing Twice**\n",
        "\n",
        "```markdown\n",
        "# Part 3: Repeat for \"free\" Appearing Twice\n",
        "\n",
        "## Goal:\n",
        "We aim to compute:\n",
        "\\[\n",
        "\\mathbb{P}(Y = 1 \\mid \\text{\"free appears twice\"} \\in X)\n",
        "\\]\n",
        "That is, the probability that an SMS is spam given that the word \"free\" appears at least twice in the message.\n",
        "\n",
        "---\n",
        "\n",
        "## Steps:\n",
        "1. **Preprocessing**:\n",
        "   - Convert all SMS texts to lowercase for case-insensitive matching.\n",
        "   - Identify messages where the word \"free\" appears at least twice.\n",
        "\n",
        "2. **Count Messages**:\n",
        "   - Count the total number of SMS messages where \"free\" appears twice.\n",
        "   - Count how many of these messages are spam (\\( Y = 1 \\)).\n",
        "\n",
        "3. **Calculate Conditional Probability**:\n",
        "   - Compute the fraction of spam messages among those where \"free\" appears at least twice.\n",
        "\n",
        "---\n"
      ]
    },
    {
      "cell_type": "code",
      "execution_count": null,
      "metadata": {
        "id": "5uQBtj6uFeD3"
      },
      "outputs": [],
      "source": [
        "# Filter SMS messages where \"free\" appears at least twice\n",
        "contains_double_free = [\n",
        "    (text, label) for text, label in spam_no_spam if text.lower().count(\"free\") >= 2\n",
        "]\n",
        "\n",
        "# Count total and spam messages\n",
        "total_containing_double_free = len(contains_double_free)\n",
        "spam_containing_double_free = sum(1 for _, label in contains_double_free if label == 1)\n",
        "\n",
        "# Calculate the estimate\n",
        "problem4_hatP2 = spam_containing_double_free / total_containing_double_free\n",
        "print(f\"Estimated P(Y=1 | 'free' appears twice): {problem4_hatP2}\")\n"
      ]
    },
    {
      "cell_type": "markdown",
      "metadata": {
        "id": "4w53bB8aFeD4"
      },
      "source": [
        "## Part 3: Confidence Interval for \\( \\hat{P}_2 = \\mathbb{P}(Y = 1 \\mid \\text{\"free appears twice\"} \\in X) \\)\n",
        "\n",
        "### Goal:\n",
        "To calculate a \"90% confidence interval\" around \\( \\hat{P}_2 \\), the probability that an SMS is spam given that the word \"free\" appears at least twice in the text.\n",
        "\n",
        "### Formula:\n",
        "Using Hoeffding's inequality, the confidence interval radius \\( l_2 \\) is:\n",
        "\\[\n",
        "l_2 = \\sqrt{\\frac{\\ln(2 / (1 - 0.9))}{2n_2}}\n",
        "\\]\n",
        "Where:\n",
        "- \\( n_2 \\) is the total number of SMS messages where \"free\" appears at least twice.\n",
        "- \\( 0.9 \\) is the confidence level (\\( \\delta = 1 - 0.9 = 0.1 \\)).\n",
        "\n",
        "### Steps:\n",
        "1. **Count \\( n_2 \\)**:\n",
        "   - Calculate the total number of SMS messages where \"free\" appears at least twice (\\( n_2 \\)).\n",
        "\n",
        "2. **Compute \\( l_2 \\)**:\n",
        "   - Use Hoeffding's formula with the calculated \\( n_2 \\).\n"
      ]
    },
    {
      "cell_type": "code",
      "execution_count": null,
      "metadata": {
        "id": "WQ75-Xk5FeD4"
      },
      "outputs": [],
      "source": [
        "import math\n",
        "\n",
        "# Total samples in the filtered set for \"free\" appearing twice\n",
        "n_2 = total_containing_double_free  # From Part 3 filtering\n",
        "\n",
        "# Confidence level\n",
        "delta = 0.1  # 1 - 0.9\n",
        "\n",
        "# Calculate l_2\n",
        "problem4_l2 = math.sqrt(math.log(2 / delta) / (2 * n_2))\n",
        "print(f\"Hoeffding's confidence interval l_2: {problem4_l2}\")\n"
      ]
    },
    {
      "cell_type": "code",
      "execution_count": null,
      "metadata": {
        "id": "ZwBHMy7fFeD5"
      },
      "outputs": [],
      "source": []
    }
  ],
  "metadata": {
    "kernelspec": {
      "display_name": "base",
      "language": "python",
      "name": "python3"
    },
    "language_info": {
      "codemirror_mode": {
        "name": "ipython",
        "version": 3
      },
      "file_extension": ".py",
      "mimetype": "text/x-python",
      "name": "python",
      "nbconvert_exporter": "python",
      "pygments_lexer": "ipython3",
      "version": "3.11.5"
    },
    "colab": {
      "provenance": []
    }
  },
  "nbformat": 4,
  "nbformat_minor": 0
}